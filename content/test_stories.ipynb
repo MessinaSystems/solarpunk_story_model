{
 "cells": [
  {
   "cell_type": "code",
   "execution_count": 1,
   "id": "131c1dd5-9be0-4445-bbc6-af3579f78710",
   "metadata": {},
   "outputs": [
    {
     "name": "stdout",
     "output_type": "stream",
     "text": [
      "Hello\n"
     ]
    }
   ],
   "source": [
    "print (\"Hello\")"
   ]
  },
  {
   "cell_type": "markdown",
   "id": "b062db2d-464f-4a48-8807-0e4ec03f5a54",
   "metadata": {},
   "source": [
    "# This is the heading!\n",
    "and some text"
   ]
  },
  {
   "cell_type": "code",
   "execution_count": 3,
   "id": "ec7d5f69-a8c1-4288-b9dd-17bd2939524b",
   "metadata": {},
   "outputs": [],
   "source": [
    "import solarpunkstories as sps"
   ]
  },
  {
   "cell_type": "code",
   "execution_count": 5,
   "id": "f51a3e8f-615d-471e-8a79-20b02b773f10",
   "metadata": {},
   "outputs": [
    {
     "name": "stdout",
     "output_type": "stream",
     "text": [
      "A person who enjoys things\n"
     ]
    }
   ],
   "source": [
    "print (sps.characters[\"me\"])"
   ]
  },
  {
   "cell_type": "code",
   "execution_count": null,
   "id": "c656319c-37dd-47ef-b6c5-de680a6fec38",
   "metadata": {},
   "outputs": [],
   "source": []
  }
 ],
 "metadata": {
  "kernelspec": {
   "display_name": "Python 3 (ipykernel)",
   "language": "python",
   "name": "python3"
  },
  "language_info": {
   "codemirror_mode": {
    "name": "ipython",
    "version": 3
   },
   "file_extension": ".py",
   "mimetype": "text/x-python",
   "name": "python",
   "nbconvert_exporter": "python",
   "pygments_lexer": "ipython3",
   "version": "3.10.12"
  }
 },
 "nbformat": 4,
 "nbformat_minor": 5
}
